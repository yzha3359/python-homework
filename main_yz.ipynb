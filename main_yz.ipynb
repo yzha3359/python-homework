{
 "cells": [
  {
   "cell_type": "code",
   "execution_count": 1,
   "id": "988f18c3-4974-49c3-b730-9c96fe21bf25",
   "metadata": {
    "tags": []
   },
   "outputs": [],
   "source": [
    "# Import the pathlib and csv library\n",
    "from pathlib import Path\n",
    "import csv\n",
    "\n",
    "# Set the file path\n",
    "csvpath = Path('./Resources/budget_data.csv')\n",
    "csv_output = Path(\"main_analysis.txt\")\n",
    "\n",
    "# Initialize variables to store the financial data\n",
    "total_months = 0\n",
    "total_profit_loss = 0\n",
    "previous_profit_loss = 0\n",
    "changes_in_profit_loss = []\n",
    "months = []"
   ]
  },
  {
   "cell_type": "code",
   "execution_count": 2,
   "id": "3bacaac8-c21c-4f83-86fa-d06a23c66cdd",
   "metadata": {
    "tags": []
   },
   "outputs": [
    {
     "data": {
      "text/plain": [
       "'C:\\\\Users\\\\diana\\\\Downloads\\\\Fintech\\\\USYD-VIRT-FIN-PT-07-2023-U-LOLC-main\\\\USYD-VIRT-FIN-PT-07-2023-U-LOLC-main\\\\02-Homework\\\\02-Python\\\\PyBank'"
      ]
     },
     "execution_count": 2,
     "metadata": {},
     "output_type": "execute_result"
    }
   ],
   "source": [
    "pwd"
   ]
  },
  {
   "cell_type": "code",
   "execution_count": 3,
   "id": "1364da10-f300-454e-bb6d-4af4fe872692",
   "metadata": {
    "tags": []
   },
   "outputs": [],
   "source": [
    "# Initialize variables to store the greatest increase and decrease in profits\n",
    "greatest_increase = {\"date\": \"\", \"amount\": 0}\n",
    "greatest_decrease = {\"date\": \"\", \"amount\": 0}\n",
    "\n",
    "# Read the financial dataset from the CSV file\n",
    "with open(csvpath, newline=\"\") as csvfile:\n",
    "    csvreader = csv.reader(csvfile, delimiter=\",\")\n",
    "    header = next(csvreader)  # Skip the header row\n",
    "    \n",
    "    # Extract first row to avoid appending to net_change_list\n",
    "    first_row = next(csvreader)\n",
    "    total_months = total_months + 1\n",
    "    total_profit_loss = total_profit_loss + int(first_row[1])\n",
    "    previous_profit_loss = int(first_row[1])\n",
    "    \n",
    "    for row in csvreader:\n",
    "        # Extract date and profit/loss values\n",
    "        date = row[0]\n",
    "        profit_loss = int(row[1])\n",
    "        \n",
    "        # The total number of months included in the dataset.\n",
    "        total_months += 1\n",
    "        total_profit_loss += profit_loss\n",
    "        \n",
    "        # The net total amount of Profit/Losses over the entire period.\n",
    "       \n",
    "        change = int(row[1]) - previous_profit_loss\n",
    "        \n",
    "        changes_in_profit_loss.append(change)\n",
    "        months.append(date)\n",
    "        \n",
    "        # Update greatest increase and decrease\n",
    "        if change > greatest_increase[\"amount\"]:\n",
    "            greatest_increase[\"date\"] = date\n",
    "            greatest_increase[\"amount\"] = change\n",
    "        elif change < greatest_decrease[\"amount\"]:\n",
    "            greatest_decrease[\"date\"] = date\n",
    "            greatest_decrease[\"amount\"] = change\n",
    "        \n",
    "        previous_profit_loss = profit_loss\n",
    "        "
   ]
  },
  {
   "cell_type": "code",
   "execution_count": 4,
   "id": "b3c2db2c-c970-495e-9b1a-3ab365097beb",
   "metadata": {
    "tags": []
   },
   "outputs": [],
   "source": [
    "# The average of the changes in Profit/Losses over the entire period.\n",
    "# Calculate the average change in profit/loss\n",
    "average_change = sum(changes_in_profit_loss) / len(changes_in_profit_loss)"
   ]
  },
  {
   "cell_type": "code",
   "execution_count": 5,
   "id": "e63802ee-b526-4ff6-9d64-1b40358ddb81",
   "metadata": {
    "tags": []
   },
   "outputs": [
    {
     "name": "stdout",
     "output_type": "stream",
     "text": [
      "Results have been saved to 'financial_analysis.txt'\n"
     ]
    }
   ],
   "source": [
    "# Save the results to a txt file\n",
    "with open(\"main_analysis.txt\", \"w\") as txtfile:\n",
    "    txtfile.write(\"Financial Analysis\\n\")\n",
    "    txtfile.write(\"-----------------------------\\n\")\n",
    "    txtfile.write(f\"Total Months: {total_months}\\n\")\n",
    "    txtfile.write(f\"Total: ${total_profit_loss}\\n\")\n",
    "    txtfile.write(f\"Average Change: ${average_change:.2f}\\n\")\n",
    "    txtfile.write(f\"Greatest Increase in Profits: {greatest_increase['date']} (${greatest_increase['amount']})\\n\")\n",
    "    txtfile.write(f\"Greatest Decrease in Profits: {greatest_decrease['date']} (${greatest_decrease['amount']})\\n\")\n",
    "\n",
    "print(\"Results have been saved to 'financial_analysis.txt'\")"
   ]
  }
 ],
 "metadata": {
  "kernelspec": {
   "display_name": "Python 3 (ipykernel)",
   "language": "python",
   "name": "python3"
  },
  "language_info": {
   "codemirror_mode": {
    "name": "ipython",
    "version": 3
   },
   "file_extension": ".py",
   "mimetype": "text/x-python",
   "name": "python",
   "nbconvert_exporter": "python",
   "pygments_lexer": "ipython3",
   "version": "3.11.4"
  }
 },
 "nbformat": 4,
 "nbformat_minor": 5
}
