{
 "cells": [
  {
   "cell_type": "code",
   "execution_count": 1,
   "id": "91f7fbc6-143f-4d7c-8e97-1d5de411ed84",
   "metadata": {},
   "outputs": [],
   "source": [
    "# Import libraries\n",
    "import csv\n",
    "from pathlib import Path\n",
    "\n",
    "# Initialize an empty list to hold menu_data\n",
    "menu_filepath = Path(\"./Resources/menu_data.csv\")\n",
    "sales_filepath = Path(\"./Resources/sales_data.csv\")"
   ]
  },
  {
   "cell_type": "code",
   "execution_count": 2,
   "id": "c28f6f8d-27b4-4a6d-9e02-8bec8707e008",
   "metadata": {},
   "outputs": [
    {
     "data": {
      "text/plain": [
       "'C:\\\\Users\\\\diana\\\\Downloads\\\\Fintech\\\\USYD-VIRT-FIN-PT-07-2023-U-LOLC-main\\\\USYD-VIRT-FIN-PT-07-2023-U-LOLC-main\\\\02-Homework\\\\02-Python\\\\PyRamen'"
      ]
     },
     "execution_count": 2,
     "metadata": {},
     "output_type": "execute_result"
    }
   ],
   "source": [
    "pwd"
   ]
  },
  {
   "cell_type": "code",
   "execution_count": 3,
   "id": "15cc3386-c12a-4b30-91af-1f9ec2b14e2d",
   "metadata": {
    "tags": []
   },
   "outputs": [],
   "source": [
    "# Initialize an empty menu list to hold hold our menu and sales data\n",
    "menu = []\n",
    "sales = []\n",
    "\n",
    "# Read in menu_data.csv into the menu list\n",
    "with open(menu_filepath, 'r', newline='') as menu_file:\n",
    "    menu_reader = csv.reader(menu_file)\n",
    "    next(menu_reader)  # Skip the header row\n",
    "    for row in menu_reader:\n",
    "        menu.append(row)\n"
   ]
  },
  {
   "cell_type": "code",
   "execution_count": 4,
   "id": "dedad227-705e-4018-9266-f9cc95616ae9",
   "metadata": {
    "tags": []
   },
   "outputs": [],
   "source": [
    "# Read sales_data.csv\n",
    "with open(sales_filepath, 'r', newline='') as sales_file:\n",
    "    sales_reader = csv.reader(sales_file)\n",
    "    next(sales_reader)  # Skip the header row\n",
    "    for row in sales_reader:\n",
    "        sales.append(row)\n"
   ]
  },
  {
   "cell_type": "code",
   "execution_count": 5,
   "id": "cdae14dd-4e3a-4d17-8023-9cf7c3fed33b",
   "metadata": {},
   "outputs": [
    {
     "ename": "ValueError",
     "evalue": "invalid literal for int() with base 10: 'spicy miso ramen'",
     "output_type": "error",
     "traceback": [
      "\u001b[1;31m---------------------------------------------------------------------------\u001b[0m",
      "\u001b[1;31mValueError\u001b[0m                                Traceback (most recent call last)",
      "Cell \u001b[1;32mIn[5], line 17\u001b[0m\n\u001b[0;32m     15\u001b[0m sale_date \u001b[38;5;241m=\u001b[39m sale[\u001b[38;5;241m3\u001b[39m]\n\u001b[0;32m     16\u001b[0m ramen_item \u001b[38;5;241m=\u001b[39m sale[\u001b[38;5;241m4\u001b[39m]\n\u001b[1;32m---> 17\u001b[0m quantity \u001b[38;5;241m=\u001b[39m \u001b[38;5;28mint\u001b[39m(sale[\u001b[38;5;241m4\u001b[39m])\n\u001b[0;32m     19\u001b[0m \u001b[38;5;66;03m# Calculate the revenue, cost of goods sold (COGS), and profit for the sale\u001b[39;00m\n\u001b[0;32m     20\u001b[0m \u001b[38;5;28;01mif\u001b[39;00m ramen_item \u001b[38;5;129;01min\u001b[39;00m menu_dict:\n",
      "\u001b[1;31mValueError\u001b[0m: invalid literal for int() with base 10: 'spicy miso ramen'"
     ]
    }
   ],
   "source": [
    "# Initialize an empty report dictionary\n",
    "report = {\n",
    "    \"01-count\": {},   # Total quantity for each ramen type\n",
    "    \"02-revenue\": {},  # Total revenue for each ramen type\n",
    "    \"03-cogs\": {},     # Total cost of goods sold for each ramen type\n",
    "    \"04-profit\": {}    # Total profit for each ramen type\n",
    "}\n",
    "\n",
    "# Define a dictionary to map menu item IDs to their respective menu data\n",
    "menu_dict = {item[0]: {\"price\": float(item[3]), \"cost\": float(item[4])} for item in menu}\n",
    "\n",
    "# Iterate through the sales data\n",
    "for sale in sales:\n",
    "    # Extract relevant information from the sales data\n",
    "    sale_date = sale[3]\n",
    "    ramen_item = sale[4]\n",
    "    quantity = int(sale[4])\n",
    "\n",
    "    # Calculate the revenue, cost of goods sold (COGS), and profit for the sale\n",
    "    if ramen_item in menu_dict:\n",
    "        price = menu_dict[ramen_item][\"price\"]\n",
    "        cost = menu_dict[ramen_item][\"cost\"]\n",
    "\n",
    "        revenue = price * quantity\n",
    "        cogs = cost * quantity\n",
    "        profit = revenue - cogs\n",
    "\n",
    "        # Update the report dictionary with the calculated values\n",
    "        if ramen_item not in report[\"01-count\"]:\n",
    "            report[\"01-count\"][ramen_item] = 0\n",
    "            report[\"02-revenue\"][ramen_item] = 0\n",
    "            report[\"03-cogs\"][ramen_item] = 0\n",
    "            report[\"04-profit\"][ramen_item] = 0\n",
    "\n",
    "        report[\"01-count\"][ramen_item] += quantity\n",
    "        report[\"02-revenue\"][ramen_item] += revenue\n",
    "        report[\"03-cogs\"][ramen_item] += cogs\n",
    "        report[\"04-profit\"][ramen_item] += profit\n",
    "\n",
    "# Print the report dictionary to view the aggregated results\n",
    "print(\"Aggregated Results:\")\n",
    "for item, metrics in report.items():\n",
    "    print(f\"{item}:\")\n",
    "    for ramen_type, value in metrics.items():\n",
    "        print(f\"  {ramen_type}: {value}\")"
   ]
  }
 ],
 "metadata": {
  "kernelspec": {
   "display_name": "Python 3 (ipykernel)",
   "language": "python",
   "name": "python3"
  },
  "language_info": {
   "codemirror_mode": {
    "name": "ipython",
    "version": 3
   },
   "file_extension": ".py",
   "mimetype": "text/x-python",
   "name": "python",
   "nbconvert_exporter": "python",
   "pygments_lexer": "ipython3",
   "version": "3.11.4"
  }
 },
 "nbformat": 4,
 "nbformat_minor": 5
}
